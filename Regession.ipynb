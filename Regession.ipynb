{
 "cells": [
  {
   "cell_type": "code",
   "execution_count": 36,
   "metadata": {},
   "outputs": [
    {
     "name": "stdout",
     "output_type": "stream",
     "text": [
      "1.12.0\n"
     ]
    }
   ],
   "source": [
    "import tensorflow as tf\n",
    "import numpy as np\n",
    "print(tf.__version__)"
   ]
  },
  {
   "cell_type": "code",
   "execution_count": 37,
   "metadata": {},
   "outputs": [],
   "source": [
    "X=np.random.random([10000,2])\n",
    "W=np.array([3,4]).reshape([2,1])\n",
    "Y=np.add(np.matmul(X,W),np.random.uniform(-0.5,0.5))"
   ]
  },
  {
   "cell_type": "code",
   "execution_count": 38,
   "metadata": {},
   "outputs": [
    {
     "data": {
      "text/plain": [
       "array([[4.54153309],\n",
       "       [4.00598697],\n",
       "       [0.65406621],\n",
       "       ...,\n",
       "       [3.99901254],\n",
       "       [4.69173529],\n",
       "       [6.0642085 ]])"
      ]
     },
     "execution_count": 38,
     "metadata": {},
     "output_type": "execute_result"
    }
   ],
   "source": [
    "Y"
   ]
  },
  {
   "cell_type": "code",
   "execution_count": 39,
   "metadata": {},
   "outputs": [],
   "source": [
    "from sklearn.model_selection import train_test_split"
   ]
  },
  {
   "cell_type": "code",
   "execution_count": 40,
   "metadata": {},
   "outputs": [
    {
     "data": {
      "text/plain": [
       "(8000, 2)"
      ]
     },
     "execution_count": 40,
     "metadata": {},
     "output_type": "execute_result"
    }
   ],
   "source": [
    "X_train,X_test,Y_train,Y_test=train_test_split(X,Y,test_size=0.2)\n",
    "X_train.shape"
   ]
  },
  {
   "cell_type": "code",
   "execution_count": 47,
   "metadata": {},
   "outputs": [],
   "source": [
    "X=tf.placeholder(tf.float32,shape=(None,2))\n",
    "Y=tf.placeholder(tf.float32,shape=(None,1))\n",
    "W=tf.Variable(tf.zeros([2,1],dtype=tf.float32))\n",
    "b=tf.Variable(np.random.randn,dtype=tf.float32)\n",
    "init=tf.global_variables_initializer()"
   ]
  },
  {
   "cell_type": "code",
   "execution_count": 48,
   "metadata": {},
   "outputs": [],
   "source": [
    "loss=tf.reduce_mean(tf.square(Y-(tf.matmul(X,W)+b)))\n",
    "optimize=tf.train.GradientDescentOptimizer(0.01).minimize(loss)"
   ]
  },
  {
   "cell_type": "code",
   "execution_count": 54,
   "metadata": {},
   "outputs": [
    {
     "name": "stdout",
     "output_type": "stream",
     "text": [
      "loss: 9.62199\n",
      "loss: 0.11271178\n",
      "loss: 0.012494132\n",
      "loss: 0.0013908674\n",
      "loss: 0.00015504732\n",
      "loss: 1.7292954e-05\n",
      "loss: 1.930324e-06\n",
      "loss: 2.1682446e-07\n",
      "loss: 2.5398316e-08\n",
      "loss: 2.645309e-09\n"
     ]
    }
   ],
   "source": [
    "epochs = 10000\n",
    "sess=tf.Session()\n",
    "sess.run(init)\n",
    "for epoch in range(epochs) :\n",
    "    sess.run(optimize,feed_dict={X:X_train,Y:Y_train})\n",
    "    if epoch%1000==0 :\n",
    "        var_loss=sess.run(loss,feed_dict={X:X_test,Y:Y_test})\n",
    "        print(\"loss:\",var_loss)\n",
    "    "
   ]
  },
  {
   "cell_type": "code",
   "execution_count": 55,
   "metadata": {},
   "outputs": [
    {
     "data": {
      "text/plain": [
       "array([[2.9999273],\n",
       "       [3.9999256]], dtype=float32)"
      ]
     },
     "execution_count": 55,
     "metadata": {},
     "output_type": "execute_result"
    }
   ],
   "source": [
    "sess.run(W)"
   ]
  },
  {
   "cell_type": "code",
   "execution_count": null,
   "metadata": {},
   "outputs": [],
   "source": []
  }
 ],
 "metadata": {
  "kernelspec": {
   "display_name": "tensorflow",
   "language": "python",
   "name": "tensorflow"
  },
  "language_info": {
   "codemirror_mode": {
    "name": "ipython",
    "version": 3
   },
   "file_extension": ".py",
   "mimetype": "text/x-python",
   "name": "python",
   "nbconvert_exporter": "python",
   "pygments_lexer": "ipython3",
   "version": "3.6.7"
  }
 },
 "nbformat": 4,
 "nbformat_minor": 2
}
