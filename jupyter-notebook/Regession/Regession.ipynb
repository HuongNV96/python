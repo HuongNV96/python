{
 "cells": [
  {
   "cell_type": "code",
   "execution_count": 2,
   "metadata": {},
   "outputs": [
    {
     "name": "stdout",
     "output_type": "stream",
     "text": [
      "1.12.0\n"
     ]
    }
   ],
   "source": [
    "import tensorflow as tf\n",
    "import numpy as np\n",
    "print(tf.__version__)"
   ]
  },
  {
   "cell_type": "code",
   "execution_count": 3,
   "metadata": {},
   "outputs": [],
   "source": [
    "X=np.random.random([10000,2])\n",
    "W=np.array([3,4]).reshape([2,1])\n",
    "Y=np.add(np.matmul(X,W),np.random.uniform(-0.5,0.5))"
   ]
  },
  {
   "cell_type": "code",
   "execution_count": 4,
   "metadata": {},
   "outputs": [
    {
     "data": {
      "text/plain": [
       "array([[4.87153226],\n",
       "       [2.14455232],\n",
       "       [1.35547239],\n",
       "       ...,\n",
       "       [5.67853417],\n",
       "       [1.95774712],\n",
       "       [5.13755597]])"
      ]
     },
     "execution_count": 4,
     "metadata": {},
     "output_type": "execute_result"
    }
   ],
   "source": [
    "Y"
   ]
  },
  {
   "cell_type": "code",
   "execution_count": 5,
   "metadata": {},
   "outputs": [],
   "source": [
    "from sklearn.model_selection import train_test_split"
   ]
  },
  {
   "cell_type": "code",
   "execution_count": 6,
   "metadata": {},
   "outputs": [
    {
     "data": {
      "text/plain": [
       "(8000, 2)"
      ]
     },
     "execution_count": 6,
     "metadata": {},
     "output_type": "execute_result"
    }
   ],
   "source": [
    "X_train,X_test,Y_train,Y_test=train_test_split(X,Y,test_size=0.2)\n",
    "X_train.shape"
   ]
  },
  {
   "cell_type": "code",
   "execution_count": 7,
   "metadata": {},
   "outputs": [],
   "source": [
    "X=tf.placeholder(tf.float32,shape=(None,2),name='modelInput_X')\n",
    "Y=tf.placeholder(tf.float32,shape=(None,1),name='modelInput_Y')\n",
    "W=tf.Variable(tf.zeros([2,1],dtype=tf.float32),name='modelWeights')\n",
    "b=tf.Variable(np.random.randn,dtype=tf.float32,name='modelBias')\n",
    "init=tf.global_variables_initializer()\n",
    "pred=tf.add(tf.matmul(X,W),b,name='modelPred')\n",
    "loss=tf.reduce_mean(tf.square(Y-pred),name='modelOutput')"
   ]
  },
  {
   "cell_type": "code",
   "execution_count": 8,
   "metadata": {},
   "outputs": [],
   "source": [
    "optimize=tf.train.GradientDescentOptimizer(0.01).minimize(loss)"
   ]
  },
  {
   "cell_type": "code",
   "execution_count": 9,
   "metadata": {},
   "outputs": [],
   "source": [
    "epochs = 10000\n",
    "SAVED_MODEL_PATH='check_point/'\n",
    "MODEL_NAME='Regession_Linear'"
   ]
  },
  {
   "cell_type": "code",
   "execution_count": 10,
   "metadata": {},
   "outputs": [
    {
     "name": "stdout",
     "output_type": "stream",
     "text": [
      "loss: 20.508692\n",
      "loss: 0.07742852\n",
      "loss: 0.008743742\n",
      "loss: 0.0009942508\n",
      "loss: 0.000113317015\n",
      "loss: 1.2925942e-05\n",
      "loss: 1.476947e-06\n",
      "loss: 1.7026012e-07\n",
      "loss: 1.981118e-08\n",
      "loss: 2.124163e-09\n",
      "loss: 9.474965e-10\n"
     ]
    }
   ],
   "source": [
    "sess=tf.Session()\n",
    "saver = tf.train.Saver()\n",
    "sess.run(init)\n",
    "for epoch in range(epochs+1) :\n",
    "    sess.run(optimize,feed_dict={X:X_train,Y:Y_train})\n",
    "    if epoch%1000==0 :\n",
    "        var_loss=sess.run(loss,feed_dict={X:X_test,Y:Y_test})\n",
    "        print(\"loss:\",var_loss)\n",
    "        out = saver.save(sess,SAVED_MODEL_PATH + MODEL_NAME+'.ckpt', global_step=epoch,write_meta_graph=False)\n",
    "    "
   ]
  },
  {
   "cell_type": "code",
   "execution_count": 12,
   "metadata": {},
   "outputs": [
    {
     "data": {
      "text/plain": [
       "array([[2.9999266],\n",
       "       [3.9999247]], dtype=float32)"
      ]
     },
     "execution_count": 12,
     "metadata": {},
     "output_type": "execute_result"
    }
   ],
   "source": [
    "sess.run(W)"
   ]
  },
  {
   "cell_type": "code",
   "execution_count": 13,
   "metadata": {},
   "outputs": [
    {
     "data": {
      "text/plain": [
       "'check_point/Regession_Linear.pbtxt'"
      ]
     },
     "execution_count": 13,
     "metadata": {},
     "output_type": "execute_result"
    }
   ],
   "source": [
    "# Saving \n",
    "tf.train.write_graph(sess.graph_def, SAVED_MODEL_PATH , MODEL_NAME + '.pbtxt')\n",
    "#tf.train.write_graph(sess.graph_def, SAVED_MODEL_PATH , MODEL_NAME + '.pb',as_text=True)"
   ]
  },
  {
   "cell_type": "code",
   "execution_count": 14,
   "metadata": {},
   "outputs": [
    {
     "name": "stdout",
     "output_type": "stream",
     "text": [
      "WARNING:tensorflow:From /home/huongnv/anaconda3/envs/tensorflow/lib/python3.6/site-packages/tensorflow/python/tools/freeze_graph.py:249: FastGFile.__init__ (from tensorflow.python.platform.gfile) is deprecated and will be removed in a future version.\n",
      "Instructions for updating:\n",
      "Use tf.gfile.GFile.\n",
      "INFO:tensorflow:Restoring parameters from check_point/Regession_Linear.ckpt-10000\n",
      "INFO:tensorflow:Froze 2 variables.\n",
      "INFO:tensorflow:Converted 2 variables to const ops.\n"
     ]
    }
   ],
   "source": [
    "from tensorflow.python.tools import freeze_graph\n",
    "\n",
    "# Freeze the graph\n",
    "\n",
    "# graph definition saved above\n",
    "input_graph = SAVED_MODEL_PATH+MODEL_NAME+'.pbtxt'\n",
    "# any other saver to use other than default\n",
    "input_saver = \"\"\n",
    "# earlier definition file format text or binary\n",
    "input_binary = False\n",
    "# checkpoint file to merge with graph definition\n",
    "input_checkpoint = SAVED_MODEL_PATH+MODEL_NAME+'.ckpt-'+str(10000)\n",
    "# input nodes inn our model\n",
    "input_node_names = 'modelInput_X'\n",
    "# output nodes inn our model\n",
    "output_node_names = 'modelPred'\n",
    "restore_op_name = 'save/restore_all'\n",
    "filename_tensor_name = 'save/Const:0'\n",
    "# output path\n",
    "output_graph = SAVED_MODEL_PATH+'frozen_'+MODEL_NAME+'.pb'\n",
    "# default True\n",
    "clear_devices = True\n",
    "initializer_nodes = \"\"\n",
    "variable_names_blacklist = \"\"\n",
    "\n",
    "freeze_graph.freeze_graph(\n",
    "    input_graph,\n",
    "    input_saver,\n",
    "    input_binary,\n",
    "    input_checkpoint,\n",
    "    output_node_names,\n",
    "    restore_op_name,\n",
    "    filename_tensor_name,\n",
    "    output_graph,\n",
    "    clear_devices,\n",
    "    initializer_nodes,\n",
    "    variable_names_blacklist\n",
    ")"
   ]
  },
  {
   "cell_type": "code",
   "execution_count": 15,
   "metadata": {},
   "outputs": [],
   "source": [
    "from tensorflow.python.tools import optimize_for_inference_lib\n",
    "inputGraph = tf.GraphDef()\n",
    "with tf.gfile.Open(SAVED_MODEL_PATH+'frozen_'+MODEL_NAME+'.pb', \"rb\") as f:\n",
    "    data2read = f.read()\n",
    "    inputGraph.ParseFromString(data2read)\n",
    "    outputGraph = optimize_for_inference_lib.optimize_for_inference(\n",
    "              inputGraph,\n",
    "              [\"modelInput_X\"], # an array of the input node(s)\n",
    "              [\"modelPred\"], # an array of output nodes\n",
    "              tf.int32.as_datatype_enum)\n",
    "\n",
    "# Save the optimized graph'test.pb'\n",
    "f = tf.gfile.FastGFile(SAVED_MODEL_PATH+'optimize_'+MODEL_NAME+'.pb', \"w\")\n",
    "f.write(outputGraph.SerializeToString()) "
   ]
  },
  {
   "cell_type": "code",
   "execution_count": null,
   "metadata": {},
   "outputs": [],
   "source": []
  }
 ],
 "metadata": {
  "kernelspec": {
   "display_name": "tensorflow",
   "language": "python",
   "name": "tensorflow"
  },
  "language_info": {
   "codemirror_mode": {
    "name": "ipython",
    "version": 3
   },
   "file_extension": ".py",
   "mimetype": "text/x-python",
   "name": "python",
   "nbconvert_exporter": "python",
   "pygments_lexer": "ipython3",
   "version": "3.6.7"
  }
 },
 "nbformat": 4,
 "nbformat_minor": 2
}
